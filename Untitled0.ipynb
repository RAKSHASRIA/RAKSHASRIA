{
  "nbformat": 4,
  "nbformat_minor": 0,
  "metadata": {
    "colab": {
      "provenance": [],
      "include_colab_link": true
    },
    "kernelspec": {
      "name": "python3",
      "display_name": "Python 3"
    },
    "language_info": {
      "name": "python"
    }
  },
  "cells": [
    {
      "cell_type": "markdown",
      "metadata": {
        "id": "view-in-github",
        "colab_type": "text"
      },
      "source": [
        "<a href=\"https://colab.research.google.com/github/RAKSHASRIA/RAKSHASRIA/blob/main/Untitled0.ipynb\" target=\"_parent\"><img src=\"https://colab.research.google.com/assets/colab-badge.svg\" alt=\"Open In Colab\"/></a>"
      ]
    },
    {
      "cell_type": "code",
      "execution_count": null,
      "metadata": {
        "id": "GUFSWU_W0cDq"
      },
      "outputs": [],
      "source": [
        "import numpy as np\n",
        "import pandas as pd\n",
        "import difflib\n",
        "from sklearn.feature_extraction.text import TfidfVectorizer\n",
        "from sklearn.metrics.pairwise import cosine_similarity"
      ]
    },
    {
      "cell_type": "code",
      "source": [
        "movies_data=pd.read_csv(\"/content/Tamil_movies_dataset.csv\")"
      ],
      "metadata": {
        "id": "zYU9rC1A5JQ3"
      },
      "execution_count": null,
      "outputs": []
    },
    {
      "cell_type": "code",
      "source": [],
      "metadata": {
        "id": "uqIxhCtQ9RfP"
      },
      "execution_count": null,
      "outputs": []
    },
    {
      "cell_type": "markdown",
      "source": [],
      "metadata": {
        "id": "lszSHgj7iJ-I"
      }
    },
    {
      "cell_type": "code",
      "source": [
        "print(movies_data.head(3))"
      ],
      "metadata": {
        "colab": {
          "base_uri": "https://localhost:8080/"
        },
        "id": "KfR_YSAs5S2q",
        "outputId": "effbf19c-a49d-425e-b033-389d764fd97b"
      },
      "execution_count": null,
      "outputs": [
        {
          "output_type": "stream",
          "name": "stdout",
          "text": [
            "           Id         MovieName   Genre  Rating         Director      Actor  \\\n",
            "0           0        Mouna Guru  Action     7.7     Santha Kumar  Arulnithi   \n",
            "1           1       7 Aum Arivu  Action     6.2  A.R. Murugadoss     Suriya   \n",
            "2           2  Vaagai Sooda Vaa  Comedy     8.0      A. Sarkunam      Vimal   \n",
            "\n",
            "   PeopleVote  Year  Hero_Rating  movie_rating  content_rating  Unique_id  \n",
            "0         746  2011            8             8        7.900000          0  \n",
            "1        9479  2011            9             9        8.066667          1  \n",
            "2       14522  2011            8             7        7.666667          2  \n"
          ]
        }
      ]
    },
    {
      "cell_type": "code",
      "source": [
        "movies_data.shape"
      ],
      "metadata": {
        "colab": {
          "base_uri": "https://localhost:8080/"
        },
        "id": "bcwhWtwc6Oxu",
        "outputId": "a20f55e9-d8a3-4f47-e8a7-8d773f0bc1f1"
      },
      "execution_count": null,
      "outputs": [
        {
          "output_type": "execute_result",
          "data": {
            "text/plain": [
              "(329, 12)"
            ]
          },
          "metadata": {},
          "execution_count": 6
        }
      ]
    },
    {
      "cell_type": "code",
      "source": [
        "selected_features=['Genre','Director','Actor','MovieName']\n",
        "print(selected_features)"
      ],
      "metadata": {
        "colab": {
          "base_uri": "https://localhost:8080/"
        },
        "id": "9eRIjaTK6bPX",
        "outputId": "de92dc06-742f-43e0-9d69-32c3ab7bb0d1"
      },
      "execution_count": null,
      "outputs": [
        {
          "output_type": "stream",
          "name": "stdout",
          "text": [
            "['Genre', 'Director', 'Actor', 'MovieName']\n"
          ]
        }
      ]
    },
    {
      "cell_type": "code",
      "source": [
        "for feature in selected_features:\n",
        "    movies_data[feature]=movies_data[feature].fillna('')"
      ],
      "metadata": {
        "id": "-ROHcUIJ7Fnr"
      },
      "execution_count": null,
      "outputs": []
    },
    {
      "cell_type": "code",
      "source": [
        "combined_features = movies_data['Genre']+'          '+movies_data['Director']+'  '+movies_data['Actor']+'   '+movies_data['MovieName']\n",
        "print(combined_features)"
      ],
      "metadata": {
        "colab": {
          "base_uri": "https://localhost:8080/"
        },
        "id": "EDTME7GR7m_V",
        "outputId": "3c93c247-863a-4032-9879-c22a0fd97f62"
      },
      "execution_count": null,
      "outputs": [
        {
          "output_type": "stream",
          "name": "stdout",
          "text": [
            "0      Action          Santha Kumar  Arulnithi   Moun...\n",
            "1      Action          A.R. Murugadoss  Suriya   7 Au...\n",
            "2      Comedy          A. Sarkunam  Vimal   Vaagai So...\n",
            "3      Action          Venkat Prabhu  Ajith Kumar   M...\n",
            "4      Comedy          Lawrence Raghavendra  Lawrence...\n",
            "                             ...                        \n",
            "324    Comedy          Rambala  Santhanam   Dhilluku ...\n",
            "325     Action          Rajath Ravishankar  Karthi   Dev\n",
            "326    Comedy          Sakthi Chidambaram  Prabhu Dev...\n",
            "327    Action          Karthik Subbaraj  Rajinikanth ...\n",
            "328         Action          Siva  Ajith Kumar   Viswasam\n",
            "Length: 329, dtype: object\n"
          ]
        }
      ]
    },
    {
      "cell_type": "code",
      "source": [
        "vectorizer=TfidfVectorizer()"
      ],
      "metadata": {
        "id": "C-Na9lhf_Zhm"
      },
      "execution_count": null,
      "outputs": []
    },
    {
      "cell_type": "code",
      "source": [
        "feature_vectors=vectorizer.fit_transform(combined_features)\n",
        "print(feature_vectors)"
      ],
      "metadata": {
        "colab": {
          "base_uri": "https://localhost:8080/"
        },
        "id": "Ay0Gtf2W_mc7",
        "outputId": "5e6fdcf0-a4ca-4b51-82d6-eaa34026a146"
      },
      "execution_count": null,
      "outputs": [
        {
          "output_type": "stream",
          "name": "stdout",
          "text": [
            "  (0, 284)\t0.5016151589976136\n",
            "  (0, 512)\t0.5016151589976136\n",
            "  (0, 102)\t0.42634011385976733\n",
            "  (0, 431)\t0.27131371441269614\n",
            "  (0, 769)\t0.4683054208839953\n",
            "  (0, 30)\t0.14858490160136792\n",
            "  (1, 97)\t0.5481379069728229\n",
            "  (1, 117)\t0.5481379069728229\n",
            "  (1, 865)\t0.4131151099763389\n",
            "  (1, 523)\t0.4495141896371242\n",
            "  (1, 30)\t0.16236554161219863\n",
            "  (2, 936)\t0.4572365523441955\n",
            "  (2, 845)\t0.4572365523441955\n",
            "  (2, 937)\t0.4572365523441955\n",
            "  (2, 990)\t0.38862119752684593\n",
            "  (2, 779)\t0.4268737741438834\n",
            "  (2, 197)\t0.19888828870031156\n",
            "  (3, 482)\t0.5659558674344395\n",
            "  (3, 53)\t0.4374612008802235\n",
            "  (3, 653)\t0.3675946132919421\n",
            "  (3, 973)\t0.48102551255383863\n",
            "  (3, 431)\t0.30611433054404114\n",
            "  (3, 30)\t0.1676434520868678\n",
            "  (4, 519)\t0.34924987453696604\n",
            "  (4, 378)\t0.29683957632609737\n",
            "  :\t:\n",
            "  (324, 709)\t0.49624238757091604\n",
            "  (324, 770)\t0.46328942816694696\n",
            "  (324, 197)\t0.21585500708228575\n",
            "  (325, 213)\t0.5230113639338784\n",
            "  (325, 730)\t0.5230113639338784\n",
            "  (325, 692)\t0.5230113639338784\n",
            "  (325, 384)\t0.3941779876594664\n",
            "  (325, 30)\t0.1549227343962351\n",
            "  (326, 180)\t0.45056180753790714\n",
            "  (326, 182)\t0.42064226554663814\n",
            "  (326, 214)\t0.39941401267176874\n",
            "  (326, 754)\t0.42064226554663814\n",
            "  (326, 189)\t0.39941401267176874\n",
            "  (326, 653)\t0.29264489147681\n",
            "  (326, 197)\t0.19598491501938445\n",
            "  (327, 638)\t0.5812345868534476\n",
            "  (327, 699)\t0.46198210260983225\n",
            "  (327, 856)\t0.47665594912312875\n",
            "  (327, 386)\t0.43805908552483863\n",
            "  (327, 30)\t0.17216920650386905\n",
            "  (328, 998)\t0.6015362958468317\n",
            "  (328, 834)\t0.5332498708774407\n",
            "  (328, 53)\t0.4649634459080498\n",
            "  (328, 431)\t0.32535908026861454\n",
            "  (328, 30)\t0.178182835436355\n"
          ]
        }
      ]
    },
    {
      "cell_type": "code",
      "source": [
        "similarity=cosine_similarity(feature_vectors)"
      ],
      "metadata": {
        "id": "p7NNYSaxABOW"
      },
      "execution_count": null,
      "outputs": []
    },
    {
      "cell_type": "code",
      "source": [
        "print(similarity)"
      ],
      "metadata": {
        "colab": {
          "base_uri": "https://localhost:8080/"
        },
        "id": "WV420HEwAPXM",
        "outputId": "a72a5d14-b54c-4a9d-95c5-c3b7c5e5205e"
      },
      "execution_count": null,
      "outputs": [
        {
          "output_type": "stream",
          "name": "stdout",
          "text": [
            "[[1.         0.02412507 0.         ... 0.         0.02558174 0.11474966]\n",
            " [0.02412507 1.         0.         ... 0.         0.02795435 0.02893075]\n",
            " [0.         0.         1.         ... 0.0389791  0.         0.        ]\n",
            " ...\n",
            " [0.         0.         0.0389791  ... 1.         0.         0.        ]\n",
            " [0.02558174 0.02795435 0.         ... 0.         1.         0.0306776 ]\n",
            " [0.11474966 0.02893075 0.         ... 0.         0.0306776  1.        ]]\n"
          ]
        }
      ]
    },
    {
      "cell_type": "code",
      "source": [
        "movie_name=input(\"Enter your Favourite movie name:\")"
      ],
      "metadata": {
        "id": "jSyzCdxCAaUw",
        "colab": {
          "base_uri": "https://localhost:8080/"
        },
        "outputId": "f89daa6d-bfbe-4507-c071-7b153e26c287"
      },
      "execution_count": null,
      "outputs": [
        {
          "name": "stdout",
          "output_type": "stream",
          "text": [
            "Enter your Favourite movie name:Mersal\n"
          ]
        }
      ]
    },
    {
      "cell_type": "code",
      "source": [
        "list_of_all_titles=movies_data['MovieName'].tolist()\n",
        "print(list_of_all_titles)"
      ],
      "metadata": {
        "colab": {
          "base_uri": "https://localhost:8080/"
        },
        "id": "DaK1WrGSAnl1",
        "outputId": "0c216501-3fed-4785-b02d-5b52187469f4"
      },
      "execution_count": null,
      "outputs": [
        {
          "output_type": "stream",
          "name": "stdout",
          "text": [
            "['Mouna Guru', '7 Aum Arivu', 'Vaagai Sooda Vaa', 'Mankatha', 'Kanchana: Muni 2', 'Deiva Thirumagal', 'Vaanam', 'Ko', 'Payanam', 'Yutham Sei', 'Aadukalam', 'Naduvula Konjam Pakkatha Kaanom', 'Thuppakki', 'Pizza', 'Naan', 'The Fly', 'Kalakalappu', 'Vazhakku Enn 18/9', 'Kumki', 'Neethaane En Ponvasantham', 'Thalaimuraigal', 'Biriyani', 'Ivan Veramaathiri', 'Kalyana Samayal Saadham', 'Irandam Ulagam', 'Pandiya Naadu', 'Arrambam', 'Onaayum Aattukkuttiyum', 'Raja Rani', '6 Candles', 'Moodar Koodam', 'Varuthapadatha Valibar Sangam', 'Thanga Meengal', 'Aadhalal Kadhal Seiveer', 'Maryan', 'Singam 2', 'Theeya Velai Seiyyanum Kumaru', 'Neram', 'Soodhu Kavvum', 'Ethir Neechal', 'Kedi Billa Killadi Ranga', 'Paradesi', 'Kaakkaa Muttai', 'Kayal', 'Pisasu', 'Lingaa', 'Kaaviya Thalaivan', 'Kaththi', 'Jeeva', 'Madras', 'Kathai Thiraikathai Vasanam Iyakkam', 'Jigarthanda', 'Velaiilla Pattadhari', 'Sathuranga Vettai', 'Saivam', 'Mundaasupatti', 'Kochadaiiyaan', 'Vaayai Moodi Pesavum', 'Cuckoo', 'Thegidi', 'Pannaiyarum Padminiyum', 'Goli Soda', 'Veeram', 'Rajini Murugan', 'Visaaranai', 'Pasanga 2', 'Thoongaavanam', 'Naanum Rowdy Thaan', 'Kuttram Kadithal', 'Kirumi', 'Maya', 'Thani Oruvan', 'Papanasam', 'Indru Netru Naalai', 'Demonte Colony', '36 Vayadhinile', 'Uttama Villain', 'Kanchana 2', 'OK Kanmani', 'Rajathandhiram', 'Enakkul Oruvan', 'Press 1 for Tamil', 'Yennai Arindhaal', 'I', 'Dhuruvangal Pathinaaru', 'Chennai 600028 Second Innings', 'Achcham Yenbadhu Madamaiyada', 'Ammani', 'Aandavan Kattalai', 'Kuttrame Thandanai', 'Dharmadurai', 'Joker', 'Kabali', 'Metro', 'Iraivi', 'Uriyadi', '24', 'Theri', 'Oopiri', 'Kadhalum Kadanthu Pogum', 'Pichaikkaran', 'Saala Khadoos', 'Crime 23', 'Muthuramalingam', 'Dream Factory', 'Yaman', 'Ennodu Vilayadu', 'Kadhal Kan Kattudhe', 'Pagadi Aattam', 'Rum', 'Singam 3', 'Bogan', 'Enakku Vaaitha Adimaigal', 'Koditta Idangalai Nirappuga', 'Adhe Kangal', 'Bairavaa', 'Lens', 'Aruvi', 'Ulkuththu', 'Balloon', 'Kalavaadiya Pozhuthugal', 'Velaikkaran', 'Sakka Podu Podu Raja', 'Bhrama.com', 'Chennai 2 Singapore', '12-12-1950', 'Kodiveeran', 'Richie', 'Annadurai', 'Thiruttu Payale 2', 'English Padam', 'Indrajith', 'En Aaloda Seruppa Kaanom', 'Theeran Adhigaram Ondru', 'C/o Surya', 'Ippadai Vellum', 'Aramm', 'The House Next Door', 'Vizhithiru', 'Kadaisi Bench Karthi', 'Mersal', 'Meyaadha Maan', 'Solo', 'Hara Hara Mahadevaki', 'Karuppan', 'Spyder', 'Bayama Irukku', 'Aayirathil Iruvar', 'Kalavu Thozhirchalai', 'Veedevadu', 'Thupparivaalan', 'Kathanayagan', 'Neruppu Da', 'Kurangu Bommai', 'Maayavan', 'Puriyaatha Puthir', 'Vivegam', 'Thappu Thanda', 'Taramani', 'Velaiyilla Pattathari 2', 'Podhuvaga En Manasu Thangam', 'Kootathil Oruthan', 'Nibunan', 'Meesaya murukku', 'Vikram Vedha', 'Rubaai', 'Magalir Mattum', 'Pandigai', 'Thiri', 'Gemini Ganesanum Suruli Rajanum', 'Chennaiyil Oru Naal 2', 'Ivan Thanthiran', 'Adhagappattathu Magajanangalay', 'Yaanum Theeyavan', 'Vanamagan', 'Anbanavan Asaradhavan Adangadhavan', 'Maragatha Nananya', 'Uru', 'Peechaankai', 'Rangoon', 'Sathriyan', 'Bongu', 'Oru Kidayin Karunai Manu', 'Oru Iyakkunarin Kadhal Diary', '7 Naatkal', 'Thondan', 'Brindavanam', 'Inayathalam', 'Sangili Bungili Kadhava Thorae', 'Yeidhavan', 'Saravanan Irukka Bayamaen', 'Enga Amma Rani', 'Baahubali 2: The Conclusion', 'Nagarvalam', 'Sathya', 'Kadamban - Taqatwar', 'Sivalinga - Kanchana Returns', 'Power Paandi', '8 Thottakkal', 'Kaatru Veliyidai', 'Dora', 'Kavan', 'Kadugu', 'Paambhu Sattai', 'Dhayam', 'Vaigai Express', 'Julieum 4 Perum', 'Bruce Lee', 'Kattappava Kanom', 'Oru Mugathirai', 'Maanagaram', 'ACP Shiva', 'Mupparimanam', 'Yaakkai', 'Peranbu', 'Maari 2', 'Adanga Maru', 'Kanaa', 'Seethakaathi', 'Thuppakki Munai', 'Thuppakki Munai', '2', 'Kaatrin Mozhi', 'Sarkar', 'Pandem Kodi 2', 'Vada Chennai', 'Aan Devathai', 'Raatchasan', 'Nota', '96', 'Pariyerum Perumal', 'Chekka Chivantha Vaanam', 'Raja Ranguski', 'Saamy Square', 'U Turn', 'Seema Raja', 'Imaikkaa Nodigal', 'Lakshmi', 'Odu Raja Odu', 'Kolamavu Kokila', 'Pyaar Prema Kaadhal', 'Vishwaroopam 2', 'Ghajinikanth', 'Junga', 'Mohini', 'Chinababu', 'Tamizh Padam 2.0', 'Goli Soda 2', 'Iravukku Aayiram Kangal', 'Irumbu Thirai', 'Mahanati', 'Iruttu Araiyil Murattu Kuthu', 'Kaala', 'Karu', 'Mercury', 'Tik Tik Tik', '6 Athiyayam', 'Naachiyaar', 'Savarakathi', 'Kalakalappu 2', 'Merku Thodarchi Malai', 'Bhaagamathie', 'Nimir', 'Oru Nalla Naal Paathu Solren', 'Thaanaa Serndha Koottam', 'Sketch', 'Enai Noki Paayum Thota', 'Adithya Varma', 'Kaithi', 'Bigil', '100% Kadhal', 'Asuran', 'Kaappaan', 'Magamuni', 'Saaho', 'Sixer', 'Bakrid', 'Kennedy Club', 'Comali', 'Nerkonda Paarvai', 'Jackpot', 'A1', 'Aame', 'Kadaram Kondan', 'Sivappu Manjal Pachai', 'Gurkha', 'Vennila Kabaddi Kuzhu 2', 'Bodhai Yeri Budhi Maari', 'Kalavani 2', 'Raatchasi', 'Jiivi', 'Dharma Prabhu', 'House Owner', 'Sindhubaadh', 'Thumbaa', 'Game Over', 'Kolaigaran', 'NGK', 'Devi 2', 'Neeya 2', 'Ayogya', 'Kee', 'K-13', 'Mr. Local', '100', 'Vellai Pookal', 'Mehandi Circus', 'Kanchana 3', 'Watchman', 'Gangs Of Madras', 'Uriyadi 2', 'Kuppathu Raja', 'Natpe Thunai', 'Super Deluxe', 'Airaa', 'Agni Devi', 'Nedunalvaadai', 'Ispade Rajavum Idhaya Raniyum', 'Sathru', 'Boomerang', 'Thadam', '90 ML', 'LKG', 'Vantha Rajavathaan Varuven', 'Dhilluku Dhuddu 2', 'Dev', 'Charlie Chaplin 2', 'Petta', 'Viswasam']\n"
          ]
        }
      ]
    },
    {
      "cell_type": "code",
      "source": [
        "find_close_match=difflib.get_close_matches(movie_name,list_of_all_titles)\n",
        "print(find_close_match)"
      ],
      "metadata": {
        "colab": {
          "base_uri": "https://localhost:8080/"
        },
        "id": "vjZseVsuBLl4",
        "outputId": "faa03ab4-f029-446a-9345-ad96f3f938d7"
      },
      "execution_count": null,
      "outputs": [
        {
          "output_type": "stream",
          "name": "stdout",
          "text": [
            "['Mersal']\n"
          ]
        }
      ]
    },
    {
      "cell_type": "code",
      "source": [
        "close_match =find_close_match[0]\n",
        "print(close_match)"
      ],
      "metadata": {
        "id": "ZG3IonrWCnWD",
        "colab": {
          "base_uri": "https://localhost:8080/"
        },
        "outputId": "e4405130-ba28-4270-8742-9b540739e2fc"
      },
      "execution_count": null,
      "outputs": [
        {
          "output_type": "stream",
          "name": "stdout",
          "text": [
            "Mersal\n"
          ]
        }
      ]
    },
    {
      "cell_type": "code",
      "source": [
        "index_of_movie=movies_data[movies_data.MovieName == close_match]['unique-id'].values[0]\n",
        "print(index_of_movie)"
      ],
      "metadata": {
        "colab": {
          "base_uri": "https://localhost:8080/"
        },
        "id": "Mv1KKM7OkxBl",
        "outputId": "c495abed-f7fa-4679-f851-5d2236775c28"
      },
      "execution_count": null,
      "outputs": [
        {
          "output_type": "stream",
          "name": "stdout",
          "text": [
            "140\n"
          ]
        }
      ]
    },
    {
      "cell_type": "code",
      "source": [
        "similarity_score=list(enumerate(similarity[index_of_movie]))\n",
        "print(similarity_score)"
      ],
      "metadata": {
        "id": "PujR0xUQCxKa",
        "colab": {
          "base_uri": "https://localhost:8080/"
        },
        "outputId": "1c65dedb-021a-496f-849c-b33567ba0103"
      },
      "execution_count": null,
      "outputs": [
        {
          "output_type": "stream",
          "name": "stdout",
          "text": [
            "[(0, 0.11173961447543379), (1, 0.028171858196767707), (2, 0.0), (3, 0.1260721278113025), (4, 0.0), (5, 0.08376484130672479), (6, 0.02506785206786625), (7, 0.03312330489430536), (8, 0.025552006510873384), (9, 0.0), (10, 0.03332775617712312), (11, 0.05745081648732374), (12, 0.3431500887688946), (13, 0.07763946336521509), (14, 0.07380857770551236), (15, 0.026557599386530045), (16, 0.0), (17, 0.0), (18, 0.0), (19, 0.0), (20, 0.0), (21, 0.03071464773189934), (22, 0.027562237844211038), (23, 0.0), (24, 0.026968750220950855), (25, 0.028281310858128548), (26, 0.12908971152237267), (27, 0.023037154795187583), (28, 0.32646150707591104), (29, 0.0), (30, 0.0), (31, 0.0), (32, 0.0), (33, 0.0), (34, 0.0), (35, 0.03379235088942188), (36, 0.0), (37, 0.02338351358122046), (38, 0.06650549695721542), (39, 0.0), (40, 0.0), (41, 0.0), (42, 0.0), (43, 0.0), (44, 0.0), (45, 0.03192890280509159), (46, 0.0), (47, 0.32855425011752837), (48, 0.0), (49, 0.029195176379654672), (50, 0.0), (51, 0.029669255841427274), (52, 0.02688046528548849), (53, 0.0), (54, 0.0913784169866508), (55, 0.09412665103360758), (56, 0.0), (57, 0.0), (58, 0.0), (59, 0.0), (60, 0.16270713599492181), (61, 0.17938312509279716), (62, 0.1339980113942793), (63, 0.02833017561697679), (64, 0.0), (65, 0.0), (66, 0.025567858983311986), (67, 0.08273728402143701), (68, 0.0), (69, 0.0), (70, 0.0), (71, 0.0244610124882631), (72, 0.1621300461319607), (73, 0.0), (74, 0.0), (75, 0.0), (76, 0.0), (77, 0.0), (78, 0.0), (79, 0.025420489684121486), (80, 0.0), (81, 0.0), (82, 0.09971534788777127), (83, 0.04723990639825288), (84, 0.02338351358122046), (85, 0.0), (86, 0.021183675584507244), (87, 0.0), (88, 0.07461554657472551), (89, 0.0), (90, 0.07375723314299046), (91, 0.0), (92, 0.02833017561697679), (93, 0.026557599386530045), (94, 0.0), (95, 0.3857721528282028), (96, 0.14341791459843406), (97, 0.6568885593109387), (98, 0.0), (99, 0.06028865096672727), (100, 0.11452284194273668), (101, 0.022785738661453305), (102, 0.0935524856758586), (103, 0.027251812674584555), (104, 0.0), (105, 0.10498869902844492), (106, 0.0), (107, 0.0), (108, 0.0), (109, 0.0), (110, 0.03379235088942188), (111, 0.02773972549563417), (112, 0.0), (113, 0.0), (114, 0.02307882193512831), (115, 0.309445073194874), (116, 0.0), (117, 0.0), (118, 0.0), (119, 0.0), (120, 0.0), (121, 0.03055246334261744), (122, 0.018575113838004618), (123, 0.02582939058071888), (124, 0.0), (125, 0.0), (126, 0.02987638813653042), (127, 0.02450477114425225), (128, 0.11452284194273668), (129, 0.0), (130, 0.0740639129681437), (131, 0.025007775222679416), (132, 0.0), (133, 0.024386842641526484), (134, 0.028156318066126527), (135, 0.020830396344391083), (136, 0.0), (137, 0.0), (138, 0.0), (139, 0.0), (140, 1.0000000000000002), (141, 0.07356029359575357), (142, 0.023809978458937165), (143, 0.0), (144, 0.02582939058071888), (145, 0.028171858196767707), (146, 0.0), (147, 0.022785738661453305), (148, 0.0), (149, 0.0), (150, 0.03350939639544748), (151, 0.0), (152, 0.022785738661453305), (153, 0.0), (154, 0.12965202360537517), (155, 0.06480174196697942), (156, 0.1339980113942793), (157, 0.0), (158, 0.0), (159, 0.021657062353545167), (160, 0.0), (161, 0.0), (162, 0.02381937356411392), (163, 0.0), (164, 0.027270545439858095), (165, 0.029248604263340663), (166, 0.0), (167, 0.029248604263340663), (168, 0.0), (169, 0.0), (170, 0.07556241654538882), (171, 0.02512395201775618), (172, 0.0), (173, 0.01867492937475507), (174, 0.1308398173943347), (175, 0.019305084329163967), (176, 0.0), (177, 0.0), (178, 0.0), (179, 0.025007775222679416), (180, 0.027409136041143346), (181, 0.0), (182, 0.0), (183, 0.0), (184, 0.0), (185, 0.0), (186, 0.0), (187, 0.0), (188, 0.0), (189, 0.023700600709728053), (190, 0.021490514115020246), (191, 0.023078821935128314), (192, 0.023919697394497265), (193, 0.0), (194, 0.025420489684121486), (195, 0.026504305249665027), (196, 0.0), (197, 0.02461453124506812), (198, 0.026258680425011473), (199, 0.0), (200, 0.027121406876513585), (201, 0.12631338613474066), (202, 0.06945037241866926), (203, 0.021284150210438214), (204, 0.0), (205, 0.0), (206, 0.0), (207, 0.02375321723658541), (208, 0.0), (209, 0.0), (210, 0.024736632130816304), (211, 0.021206738744986683), (212, 0.0), (213, 0.0), (214, 0.0), (215, 0.031645660630578776), (216, 0.022982942320545582), (217, 0.0), (218, 0.07841314912830175), (219, 0.025261157649371813), (220, 0.025261157649371813), (221, 0.044213822672529046), (222, 0.0), (223, 0.32855425011752837), (224, 0.026975495836951427), (225, 0.028894000439350614), (226, 0.02582939058071888), (227, 0.12427410637716323), (228, 0.07452900157938463), (229, 0.17646092255298157), (230, 0.0), (231, 0.020209465966735393), (232, 0.0), (233, 0.028131792577066023), (234, 0.07250512587849324), (235, 0.029316958119688416), (236, 0.02474637373789381), (237, 0.07948226425094158), (238, 0.0), (239, 0.0), (240, 0.0), (241, 0.02185063994364375), (242, 0.0), (243, 0.11676253258548162), (244, 0.0), (245, 0.03332775617712312), (246, 0.0), (247, 0.07284782480465601), (248, 0.021053606872690214), (249, 0.026975495836951427), (250, 0.0), (251, 0.0), (252, 0.02833017561697679), (253, 0.07948226425094158), (254, 0.0), (255, 0.014023052977820584), (256, 0.0), (257, 0.03065930952751986), (258, 0.0), (259, 0.0), (260, 0.0), (261, 0.026504305249665027), (262, 0.0), (263, 0.0), (264, 0.022119260444342485), (265, 0.11614862969830494), (266, 0.019902595784005207), (267, 0.0), (268, 0.02823588278709153), (269, 0.6568885593109387), (270, 0.08792948936555692), (271, 0.03332775617712312), (272, 0.03423916152579038), (273, 0.09510740970682355), (274, 0.02987638813653042), (275, 0.0), (276, 0.0), (277, 0.0), (278, 0.0), (279, 0.11482444818165613), (280, 0.030935009908916553), (281, 0.0), (282, 0.08204198776206567), (283, 0.025506689817644517), (284, 0.023880736694642503), (285, 0.02559969035761823), (286, 0.021206738744986683), (287, 0.0), (288, 0.0), (289, 0.0), (290, 0.0), (291, 0.0), (292, 0.0), (293, 0.22554953000914557), (294, 0.0), (295, 0.0), (296, 0.09705340279097593), (297, 0.03232898554602341), (298, 0.09009917569951773), (299, 0.0), (300, 0.030207902527693835), (301, 0.03065930952751986), (302, 0.026330293487572508), (303, 0.02770304647295805), (304, 0.02485973408407145), (305, 0.0), (306, 0.0), (307, 0.01929261808578033), (308, 0.19142704379759157), (309, 0.1014651670744466), (310, 0.3857721528282028), (311, 0.0802660780791353), (312, 0.0), (313, 0.08895410290626793), (314, 0.0), (315, 0.0), (316, 0.0), (317, 0.0), (318, 0.0), (319, 0.027689381349137347), (320, 0.0983452725433333), (321, 0.0), (322, 0.0), (323, 0.02397379001776036), (324, 0.0), (325, 0.02688046528548849), (326, 0.0), (327, 0.029872880805348213), (328, 0.1339980113942793)]\n"
          ]
        }
      ]
    },
    {
      "cell_type": "code",
      "source": [
        "\n",
        "len(similarity_score)"
      ],
      "metadata": {
        "colab": {
          "base_uri": "https://localhost:8080/"
        },
        "id": "il3aTQNtD1Hy",
        "outputId": "9cea1363-7aa5-43bf-9c6d-17991fa8266d"
      },
      "execution_count": null,
      "outputs": [
        {
          "output_type": "execute_result",
          "data": {
            "text/plain": [
              "329"
            ]
          },
          "metadata": {},
          "execution_count": 23
        }
      ]
    },
    {
      "cell_type": "code",
      "source": [
        "sorted_similar_movies=sorted(similarity_score, key=lambda x:x[1], reverse=True)\n",
        "print(sorted_similar_movies)"
      ],
      "metadata": {
        "colab": {
          "base_uri": "https://localhost:8080/"
        },
        "id": "Cxm5T61cD4Z1",
        "outputId": "92aa3b44-ebf0-4916-e154-6fde70774b9e"
      },
      "execution_count": null,
      "outputs": [
        {
          "output_type": "stream",
          "name": "stdout",
          "text": [
            "[(140, 1.0000000000000002), (97, 0.6568885593109387), (269, 0.6568885593109387), (95, 0.3857721528282028), (310, 0.3857721528282028), (12, 0.3431500887688946), (47, 0.32855425011752837), (223, 0.32855425011752837), (28, 0.32646150707591104), (115, 0.309445073194874), (293, 0.22554953000914557), (308, 0.19142704379759157), (61, 0.17938312509279716), (229, 0.17646092255298157), (60, 0.16270713599492181), (72, 0.1621300461319607), (96, 0.14341791459843406), (62, 0.1339980113942793), (156, 0.1339980113942793), (328, 0.1339980113942793), (174, 0.1308398173943347), (154, 0.12965202360537517), (26, 0.12908971152237267), (201, 0.12631338613474066), (3, 0.1260721278113025), (227, 0.12427410637716323), (243, 0.11676253258548162), (265, 0.11614862969830494), (279, 0.11482444818165613), (100, 0.11452284194273668), (128, 0.11452284194273668), (0, 0.11173961447543379), (105, 0.10498869902844492), (309, 0.1014651670744466), (82, 0.09971534788777127), (320, 0.0983452725433333), (296, 0.09705340279097593), (273, 0.09510740970682355), (55, 0.09412665103360758), (102, 0.0935524856758586), (54, 0.0913784169866508), (298, 0.09009917569951773), (313, 0.08895410290626793), (270, 0.08792948936555692), (5, 0.08376484130672479), (67, 0.08273728402143701), (282, 0.08204198776206567), (311, 0.0802660780791353), (237, 0.07948226425094158), (253, 0.07948226425094158), (218, 0.07841314912830175), (13, 0.07763946336521509), (170, 0.07556241654538882), (88, 0.07461554657472551), (228, 0.07452900157938463), (130, 0.0740639129681437), (14, 0.07380857770551236), (90, 0.07375723314299046), (141, 0.07356029359575357), (247, 0.07284782480465601), (234, 0.07250512587849324), (202, 0.06945037241866926), (38, 0.06650549695721542), (155, 0.06480174196697942), (99, 0.06028865096672727), (11, 0.05745081648732374), (83, 0.04723990639825288), (221, 0.044213822672529046), (272, 0.03423916152579038), (35, 0.03379235088942188), (110, 0.03379235088942188), (150, 0.03350939639544748), (10, 0.03332775617712312), (245, 0.03332775617712312), (271, 0.03332775617712312), (7, 0.03312330489430536), (297, 0.03232898554602341), (45, 0.03192890280509159), (215, 0.031645660630578776), (280, 0.030935009908916553), (21, 0.03071464773189934), (257, 0.03065930952751986), (301, 0.03065930952751986), (121, 0.03055246334261744), (300, 0.030207902527693835), (126, 0.02987638813653042), (274, 0.02987638813653042), (327, 0.029872880805348213), (51, 0.029669255841427274), (235, 0.029316958119688416), (165, 0.029248604263340663), (167, 0.029248604263340663), (49, 0.029195176379654672), (225, 0.028894000439350614), (63, 0.02833017561697679), (92, 0.02833017561697679), (252, 0.02833017561697679), (25, 0.028281310858128548), (268, 0.02823588278709153), (1, 0.028171858196767707), (145, 0.028171858196767707), (134, 0.028156318066126527), (233, 0.028131792577066023), (111, 0.02773972549563417), (303, 0.02770304647295805), (319, 0.027689381349137347), (22, 0.027562237844211038), (180, 0.027409136041143346), (164, 0.027270545439858095), (103, 0.027251812674584555), (200, 0.027121406876513585), (224, 0.026975495836951427), (249, 0.026975495836951427), (24, 0.026968750220950855), (52, 0.02688046528548849), (325, 0.02688046528548849), (15, 0.026557599386530045), (93, 0.026557599386530045), (195, 0.026504305249665027), (261, 0.026504305249665027), (302, 0.026330293487572508), (198, 0.026258680425011473), (123, 0.02582939058071888), (144, 0.02582939058071888), (226, 0.02582939058071888), (285, 0.02559969035761823), (66, 0.025567858983311986), (8, 0.025552006510873384), (283, 0.025506689817644517), (79, 0.025420489684121486), (194, 0.025420489684121486), (219, 0.025261157649371813), (220, 0.025261157649371813), (171, 0.02512395201775618), (6, 0.02506785206786625), (131, 0.025007775222679416), (179, 0.025007775222679416), (304, 0.02485973408407145), (236, 0.02474637373789381), (210, 0.024736632130816304), (197, 0.02461453124506812), (127, 0.02450477114425225), (71, 0.0244610124882631), (133, 0.024386842641526484), (323, 0.02397379001776036), (192, 0.023919697394497265), (284, 0.023880736694642503), (162, 0.02381937356411392), (142, 0.023809978458937165), (207, 0.02375321723658541), (189, 0.023700600709728053), (37, 0.02338351358122046), (84, 0.02338351358122046), (191, 0.023078821935128314), (114, 0.02307882193512831), (27, 0.023037154795187583), (216, 0.022982942320545582), (101, 0.022785738661453305), (147, 0.022785738661453305), (152, 0.022785738661453305), (264, 0.022119260444342485), (241, 0.02185063994364375), (159, 0.021657062353545167), (190, 0.021490514115020246), (203, 0.021284150210438214), (211, 0.021206738744986683), (286, 0.021206738744986683), (86, 0.021183675584507244), (248, 0.021053606872690214), (135, 0.020830396344391083), (231, 0.020209465966735393), (266, 0.019902595784005207), (175, 0.019305084329163967), (307, 0.01929261808578033), (173, 0.01867492937475507), (122, 0.018575113838004618), (255, 0.014023052977820584), (2, 0.0), (4, 0.0), (9, 0.0), (16, 0.0), (17, 0.0), (18, 0.0), (19, 0.0), (20, 0.0), (23, 0.0), (29, 0.0), (30, 0.0), (31, 0.0), (32, 0.0), (33, 0.0), (34, 0.0), (36, 0.0), (39, 0.0), (40, 0.0), (41, 0.0), (42, 0.0), (43, 0.0), (44, 0.0), (46, 0.0), (48, 0.0), (50, 0.0), (53, 0.0), (56, 0.0), (57, 0.0), (58, 0.0), (59, 0.0), (64, 0.0), (65, 0.0), (68, 0.0), (69, 0.0), (70, 0.0), (73, 0.0), (74, 0.0), (75, 0.0), (76, 0.0), (77, 0.0), (78, 0.0), (80, 0.0), (81, 0.0), (85, 0.0), (87, 0.0), (89, 0.0), (91, 0.0), (94, 0.0), (98, 0.0), (104, 0.0), (106, 0.0), (107, 0.0), (108, 0.0), (109, 0.0), (112, 0.0), (113, 0.0), (116, 0.0), (117, 0.0), (118, 0.0), (119, 0.0), (120, 0.0), (124, 0.0), (125, 0.0), (129, 0.0), (132, 0.0), (136, 0.0), (137, 0.0), (138, 0.0), (139, 0.0), (143, 0.0), (146, 0.0), (148, 0.0), (149, 0.0), (151, 0.0), (153, 0.0), (157, 0.0), (158, 0.0), (160, 0.0), (161, 0.0), (163, 0.0), (166, 0.0), (168, 0.0), (169, 0.0), (172, 0.0), (176, 0.0), (177, 0.0), (178, 0.0), (181, 0.0), (182, 0.0), (183, 0.0), (184, 0.0), (185, 0.0), (186, 0.0), (187, 0.0), (188, 0.0), (193, 0.0), (196, 0.0), (199, 0.0), (204, 0.0), (205, 0.0), (206, 0.0), (208, 0.0), (209, 0.0), (212, 0.0), (213, 0.0), (214, 0.0), (217, 0.0), (222, 0.0), (230, 0.0), (232, 0.0), (238, 0.0), (239, 0.0), (240, 0.0), (242, 0.0), (244, 0.0), (246, 0.0), (250, 0.0), (251, 0.0), (254, 0.0), (256, 0.0), (258, 0.0), (259, 0.0), (260, 0.0), (262, 0.0), (263, 0.0), (267, 0.0), (275, 0.0), (276, 0.0), (277, 0.0), (278, 0.0), (281, 0.0), (287, 0.0), (288, 0.0), (289, 0.0), (290, 0.0), (291, 0.0), (292, 0.0), (294, 0.0), (295, 0.0), (299, 0.0), (305, 0.0), (306, 0.0), (312, 0.0), (314, 0.0), (315, 0.0), (316, 0.0), (317, 0.0), (318, 0.0), (321, 0.0), (322, 0.0), (324, 0.0), (326, 0.0)]\n"
          ]
        }
      ]
    },
    {
      "cell_type": "code",
      "source": [
        "print(\"Movie suggested for you : \\n\")\n",
        "i=1\n",
        "for movie in sorted_similar_movies:\n",
        "    index=movie[0]\n",
        "    title_from_index=movies_data[movies_data.index==index]['MovieName'].values[0]\n",
        "    if(i<20):\n",
        "        print(i,'.',title_from_index)\n",
        "        i+=1"
      ],
      "metadata": {
        "colab": {
          "base_uri": "https://localhost:8080/"
        },
        "id": "Qc9pR6wqE1xJ",
        "outputId": "af02fe0e-e1be-4e4b-8c54-16e04746d9b2"
      },
      "execution_count": null,
      "outputs": [
        {
          "output_type": "stream",
          "name": "stdout",
          "text": [
            "Movie suggested for you : \n",
            "\n",
            "1 . Mersal\n",
            "2 . Theri\n",
            "3 . Bigil\n",
            "4 . Uriyadi\n",
            "5 . Uriyadi 2\n",
            "6 . Thuppakki\n",
            "7 . Kaththi\n",
            "8 . Sarkar\n",
            "9 . Raja Rani\n",
            "10 . Bairavaa\n",
            "11 . Sindhubaadh\n",
            "12 . Watchman\n",
            "13 . Goli Soda\n",
            "14 . 96\n",
            "15 . Pannaiyarum Padminiyum\n",
            "16 . Papanasam\n",
            "17 . 24\n",
            "18 . Veeram\n",
            "19 . Vivegam\n"
          ]
        }
      ]
    }
  ]
}